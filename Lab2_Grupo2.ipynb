{
  "nbformat": 4,
  "nbformat_minor": 0,
  "metadata": {
    "colab": {
      "name": "Lab2_Grupo2.ipynb",
      "provenance": [],
      "include_colab_link": true
    },
    "kernelspec": {
      "name": "python3",
      "display_name": "Python 3"
    },
    "language_info": {
      "name": "python"
    }
  },
  "cells": [
    {
      "cell_type": "markdown",
      "metadata": {
        "id": "view-in-github",
        "colab_type": "text"
      },
      "source": [
        "<a href=\"https://colab.research.google.com/github/xndrxs/Proyecto-Estructuras/blob/main/Lab2_Grupo2.ipynb\" target=\"_parent\"><img src=\"https://colab.research.google.com/assets/colab-badge.svg\" alt=\"Open In Colab\"/></a>"
      ]
    },
    {
      "cell_type": "markdown",
      "metadata": {
        "id": "DkoXm54uQpZO"
      },
      "source": [
        "##Laboratorio 2\n",
        "#cumplir con cada uno de los 8 retos en sus grupos de trabajo\n",
        "#y subir el Colab a el repositorio de un seleccionado,\n",
        "for: 29/03/2022 12:59"
      ]
    },
    {
      "cell_type": "markdown",
      "metadata": {
        "id": "fzOGmk_1SRtK"
      },
      "source": [
        "##1. Define a procedure histogram () that takes a list of whole numbers and prints a histogram on the screen. Example: procedure ([4, 9, 7]) should print the following:\n",
        "\n",
        "#****\n",
        "#*********\n",
        "#*******"
      ]
    },
    {
      "cell_type": "code",
      "metadata": {
        "id": "rACd6_TWSJHP"
      },
      "source": [
        "def histogram (lista):\n",
        "#here, your code\n",
        "  # Check if list is empty\n",
        "  if len(lista) == 0:\n",
        "    print(\"\")\n",
        "    return\n",
        "  else:\n",
        "    # Create a new list modifying the values from 2nd to last by substracting the first one\n",
        "    n_list = [lista[i] - lista[0] for i in range (1, len(lista))]\n",
        "    print(lista[0]*\"*\")\n",
        "    for i in n_list:\n",
        "      print(i*\"*\")"
      ],
      "execution_count": null,
      "outputs": []
    },
    {
      "cell_type": "code",
      "source": [
        "histogram([4, 9, 7])"
      ],
      "metadata": {
        "colab": {
          "base_uri": "https://localhost:8080/"
        },
        "id": "vYu9DbGpybrQ",
        "outputId": "09eef167-e5b8-459d-8dc0-3d4453dff3d0"
      },
      "execution_count": null,
      "outputs": [
        {
          "output_type": "stream",
          "name": "stdout",
          "text": [
            "****\n",
            "*****\n",
            "***\n"
          ]
        }
      ]
    },
    {
      "cell_type": "markdown",
      "metadata": {
        "id": "rG_FvRddSnHW"
      },
      "source": [
        "#2. Write a longer_long () function that takes a list of words and returns the longest."
      ]
    },
    {
      "cell_type": "code",
      "metadata": {
        "id": "L0Yr05pUTnBv"
      },
      "source": [
        "def longer_long(lista):\n",
        "  # Create a variable to save the longest word at the moment \n",
        "  mas_larga = \"\"\n",
        "  for word in lista:\n",
        "    if len(word) > len(mas_larga):\n",
        "      # We are uptading the variable with the new longest word found\n",
        "      mas_larga = word\n",
        "  #here, your code\n",
        "  return mas_larga"
      ],
      "execution_count": null,
      "outputs": []
    },
    {
      "cell_type": "code",
      "source": [
        "longer_long([\"hellooo\", \"hi\"])"
      ],
      "metadata": {
        "colab": {
          "base_uri": "https://localhost:8080/",
          "height": 35
        },
        "id": "d-ZTGeXS0zPO",
        "outputId": "0a45c49c-9eb7-4ee8-e956-6cbb1ea1caaf"
      },
      "execution_count": null,
      "outputs": [
        {
          "output_type": "execute_result",
          "data": {
            "text/plain": [
              "'hellooo'"
            ],
            "application/vnd.google.colaboratory.intrinsic+json": {
              "type": "string"
            }
          },
          "metadata": {},
          "execution_count": 8
        }
      ]
    },
    {
      "cell_type": "markdown",
      "metadata": {
        "id": "6Z6cu4VfUYCm"
      },
      "source": [
        "#3. Write a program that tells the user to enter a string. The program has to evaluate the string and say how many capital letters it has."
      ]
    },
    {
      "cell_type": "code",
      "metadata": {
        "id": "4Ad4oDmMUlrm"
      },
      "source": [
        "def filt_words():\n",
        "  s = input(\"Please enter a string :\")\n",
        "  # Create a variable to save the number of capital letters in the string\n",
        "  capital = 0\n",
        "  for char in s:\n",
        "    # We use .isupper() to identify capital letters, if it is True the method \n",
        "    # will return True, in this case will return 1 cause of the int(method)  \n",
        "    capital += int(char.isupper())\n",
        "  return capital"
      ],
      "execution_count": null,
      "outputs": []
    },
    {
      "cell_type": "code",
      "source": [
        "filt_words()"
      ],
      "metadata": {
        "colab": {
          "base_uri": "https://localhost:8080/"
        },
        "id": "vuqe5SMA16xF",
        "outputId": "e80ebbb8-3070-4f85-a30e-cd4e89a3579a"
      },
      "execution_count": null,
      "outputs": [
        {
          "name": "stdout",
          "output_type": "stream",
          "text": [
            "Please enter a string :HeheHe\n"
          ]
        },
        {
          "output_type": "execute_result",
          "data": {
            "text/plain": [
              "2"
            ]
          },
          "metadata": {},
          "execution_count": 15
        }
      ]
    },
    {
      "cell_type": "markdown",
      "metadata": {
        "id": "h_rpoZ4pUtRc"
      },
      "source": [
        "#4.Build a small program that converts binary numbers to integers. Example:\n",
        "#![image.png](data:image/png;base64,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)"
      ]
    },
    {
      "cell_type": "code",
      "metadata": {
        "id": "5ynFNOTKVSq9"
      },
      "source": [
        "def aDecimal(numeroBin):\n",
        "    # Create a variable to save the value in decimal of the binary number\n",
        "    decimal = 0\n",
        "    for i in range(len(numeroBin)):\n",
        "      # With [::-1][i] we loop trough the binary number by the other way around\n",
        "      # if it's equal to 1 the program will convert to decimal value with 2**i\n",
        "      if numeroBin[::-1][i] == \"1\":\n",
        "        decimal += 2 ** i\n",
        "    return decimal"
      ],
      "execution_count": null,
      "outputs": []
    },
    {
      "cell_type": "code",
      "source": [
        "aDecimal(\"000111010\")"
      ],
      "metadata": {
        "colab": {
          "base_uri": "https://localhost:8080/"
        },
        "id": "IhGLYDt_3Pwr",
        "outputId": "bd4224d7-fdde-4ff9-e838-20e241854f03"
      },
      "execution_count": null,
      "outputs": [
        {
          "output_type": "execute_result",
          "data": {
            "text/plain": [
              "58"
            ]
          },
          "metadata": {},
          "execution_count": 17
        }
      ]
    },
    {
      "cell_type": "markdown",
      "metadata": {
        "id": "56HLGw30VjiX"
      },
      "source": [
        "#5.Create a function count_vols (), which receives a word and counts how many letters \"a\" it has, how many letters \"e\" it has, and so on until all the vowels are completed.\n",
        "You can make the user who chooses the word.\n",
        "only in lower letters"
      ]
    },
    {
      "cell_type": "code",
      "metadata": {
        "id": "wV0z9j6mQiX1"
      },
      "source": [
        "def contar_vocales(cadena):\n",
        "  # Create a dictionary to save the vowels as keys and as values how many times\n",
        "  # they've been found in the string\n",
        "  vowels = {'a':0, 'e':0, 'i':0, 'o':0, 'u':0}\n",
        "  for c in cadena:\n",
        "    if c in vowels.keys():\n",
        "      # It means that c is a vowel, so  we just plus one to the value of the\n",
        "      # vowel found in the dict \n",
        "      vowels[c] += 1\n",
        "  for i in vowels.items():\n",
        "    print(\"There are \"+ str(i[1]) +\" \"+ i[0])\n",
        "    #here, your code"
      ],
      "execution_count": null,
      "outputs": []
    },
    {
      "cell_type": "code",
      "source": [
        "contar_vocales(\"cadena\")"
      ],
      "metadata": {
        "colab": {
          "base_uri": "https://localhost:8080/"
        },
        "id": "J0XIAn1q5HLL",
        "outputId": "d3faac94-4cdd-4dbf-881f-d3e922622266"
      },
      "execution_count": null,
      "outputs": [
        {
          "output_type": "stream",
          "name": "stdout",
          "text": [
            "There are 2 a\n",
            "There are 1 e\n",
            "There are 0 i\n",
            "There are 0 o\n",
            "There are 0 u\n"
          ]
        }
      ]
    },
    {
      "cell_type": "markdown",
      "metadata": {
        "id": "cW8wgs4sWqe0"
      },
      "source": [
        "#6.Write a function is leap () that determines if a given year is a leap year \n",
        "A leap year is divisible by 4, but not by 100. It is also divisible by 400"
      ]
    },
    {
      "cell_type": "code",
      "metadata": {
        "id": "mVc2L_lhWqwC"
      },
      "source": [
        "def es_bisiesto(year):\n",
        "  # In this case we used the fact that if the remainder between a leap year and\n",
        "  # a year whatever is divisible between four, this one is also a leap year. \n",
        "  ref = 2020\n",
        "  s = abs(year-ref)\n",
        "  if s % 4 == 0:\n",
        "    return True\n",
        "  else:\n",
        "    return False\n",
        "    #here, your code"
      ],
      "execution_count": null,
      "outputs": []
    },
    {
      "cell_type": "code",
      "source": [
        "es_bisiesto(2027)"
      ],
      "metadata": {
        "colab": {
          "base_uri": "https://localhost:8080/"
        },
        "id": "AoAjS8tp7Q0y",
        "outputId": "aba7a6e6-c8b6-4f4a-ee4a-763486f07463"
      },
      "execution_count": null,
      "outputs": [
        {
          "output_type": "execute_result",
          "data": {
            "text/plain": [
              "False"
            ]
          },
          "metadata": {},
          "execution_count": 31
        }
      ]
    },
    {
      "cell_type": "code",
      "source": [
        "es_bisiesto(2028)"
      ],
      "metadata": {
        "colab": {
          "base_uri": "https://localhost:8080/"
        },
        "id": "h4qP5FgR7bHs",
        "outputId": "12183ae0-55ae-49bb-d381-8bc974632da4"
      },
      "execution_count": null,
      "outputs": [
        {
          "output_type": "execute_result",
          "data": {
            "text/plain": [
              "True"
            ]
          },
          "metadata": {},
          "execution_count": 32
        }
      ]
    },
    {
      "cell_type": "markdown",
      "metadata": {
        "id": "5BuKdB_8YEzH"
      },
      "source": [
        "#7. Write a program that asks for two words and tells whether or not they rhyme. If the last three letters match, you have to say that they rhyme. If only the last two coincide, he has to say that they rhyme a bit and if not, that they do not rhyme.\n",
        "Example:\n",
        "![image.png](data:image/png;base64,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)"
      ]
    },
    {
      "cell_type": "code",
      "metadata": {
        "id": "DNbrtrbAYeBG"
      },
      "source": [
        "def rim(uno,dos):\n",
        "  # We use acces to list by index logic with : to evaluate the lastest values\n",
        "  # of the strings\n",
        "  if uno[-3:] == dos[-3:]:\n",
        "    print(\"Riman\")\n",
        "  elif uno[-2:] == dos[-2:]:\n",
        "    print(\"Riman un poco\")\n",
        "  else:\n",
        "    print(\"No riman\")"
      ],
      "execution_count": null,
      "outputs": []
    },
    {
      "cell_type": "code",
      "source": [
        "rim('cancion','oracion')\n",
        "rim('algoritmo','acerrimo')\n",
        "rim('venta','organo')"
      ],
      "metadata": {
        "colab": {
          "base_uri": "https://localhost:8080/"
        },
        "id": "Pb4VEYtG778h",
        "outputId": "a4aea89e-99b3-4945-b9f3-2c1b8f08f235"
      },
      "execution_count": null,
      "outputs": [
        {
          "output_type": "stream",
          "name": "stdout",
          "text": [
            "Riman\n",
            "Riman un poco\n",
            "No riman\n"
          ]
        }
      ]
    },
    {
      "cell_type": "markdown",
      "metadata": {
        "id": "RX_TI52-Z_bl"
      },
      "source": [
        "#8.It has a program that asks the user for a dollar amount, an interest rate, and a number of years. It shows on the screen how much the initial capital will have been converted after those years if the interest rate entered is applied each year.\n",
        "Remember that a capital C dollars at an interest of x percent for n years becomes C * (1 + x / 100) raised to n (years). Test the program knowing that an amount of $ 10,000$ at $4.5% annual interest becomes $ 24,117.14 after 20 years."
      ]
    },
    {
      "cell_type": "code",
      "metadata": {
        "id": "Y2Xi2BT-aREe"
      },
      "source": [
        "def calculo (dinero, inte, cant_anos):\n",
        "  # We just use the formula to find a future value with a present one, a\n",
        "  # interest and n years\n",
        "  new_cap = dinero * (1 + inte/100)**cant_anos\n",
        "  return print(\"{:.2f}\".format(new_cap))"
      ],
      "execution_count": null,
      "outputs": []
    },
    {
      "cell_type": "code",
      "source": [
        "calculo(10000, 4.5, 20)"
      ],
      "metadata": {
        "colab": {
          "base_uri": "https://localhost:8080/"
        },
        "id": "1lYqVxPv9F4A",
        "outputId": "4cd42547-ec46-4d53-f19d-3e2d879eac70"
      },
      "execution_count": null,
      "outputs": [
        {
          "output_type": "stream",
          "name": "stdout",
          "text": [
            "24117.14\n"
          ]
        }
      ]
    }
  ]
}